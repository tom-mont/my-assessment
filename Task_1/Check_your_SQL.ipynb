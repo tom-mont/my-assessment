{
 "cells": [
  {
   "cell_type": "code",
   "execution_count": 2,
   "metadata": {},
   "outputs": [],
   "source": [
    "import importlib\n",
    "import subprocess\n",
    "\n",
    "import Advanced_SQL as asql\n",
    "import duckdb\n",
    "import SQL as sql\n",
    "\n",
    "_ = importlib.reload(asql)\n",
    "_ = importlib.reload(sql)"
   ]
  },
  {
   "cell_type": "markdown",
   "metadata": {},
   "source": [
    "Use this cell to test any sql queries. This can be done in one of the following ways:\n",
    "\n",
    "1. Fill in the `qry` within the \"\"\" \"\"\".\n",
    "2. Call the question functions that you have already filled in from the SQL.py and Advanced_SQL.py files. An example of question_1 being called from the SQL.py file is currently commented out.\n",
    "\n",
    "This cell can be copied if you wish to run multiple queries.\n"
   ]
  },
  {
   "cell_type": "code",
   "execution_count": 111,
   "metadata": {},
   "outputs": [
    {
     "ename": "ParserException",
     "evalue": "Parser Error: syntax error at end of input",
     "output_type": "error",
     "traceback": [
      "\u001b[0;31m---------------------------------------------------------------------------\u001b[0m",
      "\u001b[0;31mParserException\u001b[0m                           Traceback (most recent call last)",
      "Cell \u001b[0;32mIn[111], line 40\u001b[0m\n\u001b[1;32m     36\u001b[0m qry \u001b[38;5;241m=\u001b[39m \u001b[38;5;124m'\u001b[39m\u001b[38;5;124minsert into financing(CustomerId, Income, LoanAmount, LoanTerm, InterstRate, ApprovalStatus, CreditScore)\u001b[39m\u001b[38;5;124m'\u001b[39m\n\u001b[1;32m     38\u001b[0m \u001b[38;5;66;03m# qry = sql.question_1()\u001b[39;00m\n\u001b[0;32m---> 40\u001b[0m \u001b[38;5;28;01mwith\u001b[39;00m duckdb\u001b[38;5;241m.\u001b[39mconnect(\u001b[38;5;124m\"\u001b[39m\u001b[38;5;124mdatabase/loan.db\u001b[39m\u001b[38;5;124m\"\u001b[39m) \u001b[38;5;28;01mas\u001b[39;00m cursor:\n\u001b[1;32m     41\u001b[0m     result_set \u001b[38;5;241m=\u001b[39m cursor\u001b[38;5;241m.\u001b[39mexecute(qry)\u001b[38;5;241m.\u001b[39mdf()\n\u001b[1;32m     43\u001b[0m result_set\n",
      "Cell \u001b[0;32mIn[111], line 41\u001b[0m\n\u001b[1;32m     38\u001b[0m \u001b[38;5;66;03m# qry = sql.question_1()\u001b[39;00m\n\u001b[1;32m     40\u001b[0m \u001b[38;5;28;01mwith\u001b[39;00m duckdb\u001b[38;5;241m.\u001b[39mconnect(\u001b[38;5;124m\"\u001b[39m\u001b[38;5;124mdatabase/loan.db\u001b[39m\u001b[38;5;124m\"\u001b[39m) \u001b[38;5;28;01mas\u001b[39;00m cursor:\n\u001b[0;32m---> 41\u001b[0m     result_set \u001b[38;5;241m=\u001b[39m \u001b[43mcursor\u001b[49m\u001b[38;5;241;43m.\u001b[39;49m\u001b[43mexecute\u001b[49m\u001b[43m(\u001b[49m\u001b[43mqry\u001b[49m\u001b[43m)\u001b[49m\u001b[38;5;241m.\u001b[39mdf()\n\u001b[1;32m     43\u001b[0m result_set\n",
      "\u001b[0;31mParserException\u001b[0m: Parser Error: syntax error at end of input"
     ]
    }
   ],
   "source": [
    "qry = \"\"\"  \n",
    "    create or replace table financing as\n",
    "    -- we first need to dedupe the data as both tables contain \n",
    "    -- duplicate customer ids\n",
    "    with customers_deduped as (\n",
    "        select *\n",
    "        from customers\n",
    "        qualify row_number() over (partition by customerid order by customerid) = 1\n",
    "    ),\n",
    "    loans_deduped as (\n",
    "        select *\n",
    "        from loans\n",
    "        qualify row_number() over (partition by customerid order by customerid) = 1\n",
    "    ),\n",
    "    -- credit table also contains customerid duplicates and needs to be deduped\n",
    "    credit_deduped as (\n",
    "        select *\n",
    "        from credit\n",
    "        qualify row_number() over (partition by customerid order by customerid) = 1\n",
    "    )\n",
    "    select \n",
    "        customers_deduped.customerid as CustomerID\n",
    "        ,customers_deduped.income as Income\n",
    "        ,loans_deduped.loanamount as LoanAmount\n",
    "        ,loans_deduped.loanterm as LoanTerm\n",
    "        ,loans_deduped.interestrate as InterestRate\n",
    "        ,loans_deduped.approvalstatus as ApprovalStatus\n",
    "        ,credit_deduped.creditscore as CreditScore\n",
    "    from customers_deduped\n",
    "    left join loans_deduped\n",
    "        on customers_deduped.customerid = loans_deduped.customerid\n",
    "    left join credit_deduped\n",
    "        on customers_deduped.customerid = credit_deduped.customerid\n",
    "\"\"\"\n",
    "\n",
    "qry = 'insert into financing(CustomerId, Income, LoanAmount, LoanTerm, InterstRate, ApprovalStatus, CreditScore)'\n",
    "\n",
    "# qry = sql.question_1()\n",
    "\n",
    "with duckdb.connect(\"database/loan.db\") as cursor:\n",
    "    result_set = cursor.execute(qry).df()\n",
    "\n",
    "result_set"
   ]
  },
  {
   "cell_type": "markdown",
   "metadata": {},
   "source": [
    "Should you break/incorrectly update any database tables, the database can be reset by running the following cell\n"
   ]
  },
  {
   "cell_type": "code",
   "execution_count": 62,
   "metadata": {},
   "outputs": [
    {
     "data": {
      "text/plain": [
       "CompletedProcess(args=['python3', 'database/database_load.py'], returncode=0)"
      ]
     },
     "execution_count": 62,
     "metadata": {},
     "output_type": "execute_result"
    }
   ],
   "source": [
    "load_script_path = \"database/database_load.py\"\n",
    "subprocess.run([\"python3\", load_script_path])"
   ]
  },
  {
   "cell_type": "code",
   "execution_count": null,
   "metadata": {},
   "outputs": [],
   "source": []
  }
 ],
 "metadata": {
  "kernelspec": {
   "display_name": "Python 3 (ipykernel)",
   "language": "python",
   "name": "python3"
  },
  "language_info": {
   "codemirror_mode": {
    "name": "ipython",
    "version": 3
   },
   "file_extension": ".py",
   "mimetype": "text/x-python",
   "name": "python",
   "nbconvert_exporter": "python",
   "pygments_lexer": "ipython3",
   "version": "3.10.17"
  }
 },
 "nbformat": 4,
 "nbformat_minor": 4
}
