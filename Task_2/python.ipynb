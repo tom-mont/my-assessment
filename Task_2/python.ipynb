{
 "cells": [
  {
   "cell_type": "code",
   "execution_count": 51,
   "metadata": {},
   "outputs": [],
   "source": [
    "import os\n",
    "\n",
    "import pandas as pd\n",
    "import Python as py"
   ]
  },
  {
   "cell_type": "code",
   "execution_count": 52,
   "metadata": {},
   "outputs": [],
   "source": [
    "root = os.getcwd()\n",
    "df_scheduled = pd.read_csv(root + \"/data/scheduled_loan_repayments.csv\")\n",
    "df_actual = pd.read_csv(root + \"/data/actual_loan_repayments.csv\")\n",
    "df_balances = py.calculate_df_balances(df_scheduled, df_actual)"
   ]
  },
  {
   "cell_type": "code",
   "execution_count": 23,
   "metadata": {},
   "outputs": [
    {
     "name": "stdout",
     "output_type": "stream",
     "text": [
      "15.0\n",
      "15.0\n"
     ]
    }
   ],
   "source": [
    "## Question 1\n",
    "# print(df_balances[df_balances['ActualRepayment'] < df_balances['ScheduledRepayment']])\n",
    "filtered_df = df_balances[df_balances['ActualRepayment'] < df_balances['ScheduledRepayment']]\n",
    "count_distinct_loans_type1default = filtered_df['LoanID'].nunique()\n",
    "count_distinct_loans = df_balances['LoanID'].nunique()\n",
    "default_rate_percent = 100 * count_distinct_loans_type1default / count_distinct_loans\n",
    "print(default_rate_percent)\n",
    "print(py.question_1(df_balances))"
   ]
  },
  {
   "cell_type": "code",
   "execution_count": 57,
   "metadata": {},
   "outputs": [
    {
     "ename": "IndentationError",
     "evalue": "unexpected indent (1650773188.py, line 26)",
     "output_type": "error",
     "traceback": [
      "\u001b[0;36m  Cell \u001b[0;32mIn[57], line 26\u001b[0;36m\u001b[0m\n\u001b[0;31m    default_rate_percent = 100 * len(loans_df[loans_df[\"PercentUnpaidPayments\"] > 15]) / len(loans_df)\u001b[0m\n\u001b[0m    ^\u001b[0m\n\u001b[0;31mIndentationError\u001b[0m\u001b[0;31m:\u001b[0m unexpected indent\n"
     ]
    }
   ],
   "source": [
    "# What timeframes are we dealing with?\n",
    "print(max(df_balances[\"Month\"])) # max month = 12 \n",
    "print(min(df_balances[\"Month\"])) # min month = 12\n",
    "## First need to calculcate how many payments are expected\n",
    "# print(df_balances[df_balances[\"ActualRepayment\"] == 0].head())\n",
    "\n",
    "## Check all scheduled payments for each loan \n",
    "repayments_per_loan = df_scheduled.groupby(\"LoanID\").size()\n",
    "\n",
    "## Unpaid payments are defined a payment being 0\n",
    "unpaid_payments = df_balances[df_balances[\"ActualRepayment\"] == 0].groupby(\"LoanID\").size()\n",
    "\n",
    "## Create a new DF that is on a loan-grain\n",
    "loans_df = pd.DataFrame({\n",
    "    'TotalExpectedRepayments': repayments_per_loan,\n",
    "    'UnpaidPayments': unpaid_payments\n",
    "})\n",
    "\n",
    "## Update NaN values to 0 for calculcation purposes:\n",
    "loans_df['UnpaidPayments'] = loans_df['UnpaidPayments'].fillna(0).astype(int)\n",
    "\n",
    "## Calculate percentage of payments in a loan that were not repaid:\n",
    "loans_df[\"PercentUnpaidPayments\"] = 100 * loans_df[\"UnpaidPayments\"] / loans_df[\"TotalExpectedRepayments\"]\n",
    "\n",
    "## Calculate what % of loans are in type 2 default:\n",
    "    default_rate_percent = 100 * len(loans_df[loans_df[\"PercentUnpaidPayments\"] > 15]) / len(loans_df)\n",
    "print(default_rate_percent)"
   ]
  },
  {
   "cell_type": "code",
   "execution_count": 19,
   "metadata": {},
   "outputs": [
    {
     "name": "stdout",
     "output_type": "stream",
     "text": [
      "-1.0\n",
      "-4095.0\n"
     ]
    }
   ],
   "source": [
    "## Question 3\n",
    "## SMM is calculated as: (Unscheduled Principal)/(Start of Month Loan Balance)\n",
    "\n",
    "## We want to calculate unscheduled prinicpal first. This is the amount of the loan payment that goes towards the principal\n",
    "## The scheduled prinicpal would be scheduled repayment less the interest payment\n",
    "df_balances[\"UnscheduledPrincipal\"] = df_balances[\"ScheduledRepayment\"] - df_balances[\"InterestPayment\"]\n",
    "\n",
    "## SMM is calculated as: (Unscheduled Principal)/(Start of Month Loan Balance)\n",
    "df_balances[\"SMM\"] = df_balances[\"UnscheduledPrincipal\"] / df_balances[\"LoanBalanceStart\"]\n",
    "\n",
    "## SMM_mean is calculated as (∏(1+SMM))^(1/12) - 1\n",
    "SMM_mean = (df_balances[\"SMM\"] ** (1/12)).prod() -1\n",
    "print(SMM_mean)\n",
    "\n",
    "## CPR is calcualted as: 1 - (1- SMM_mean)^12\n",
    "cpr = 1 - (1 - SMM_mean) ** 12\n",
    "print(cpr)"
   ]
  },
  {
   "cell_type": "code",
   "execution_count": 123,
   "metadata": {},
   "outputs": [
    {
     "ename": "NameError",
     "evalue": "name 'cpr_percent' is not defined",
     "output_type": "error",
     "traceback": [
      "\u001b[0;31m---------------------------------------------------------------------------\u001b[0m",
      "\u001b[0;31mNameError\u001b[0m                                 Traceback (most recent call last)",
      "Cell \u001b[0;32mIn[123], line 18\u001b[0m\n\u001b[1;32m     16\u001b[0m \u001b[38;5;66;03m## Predicted total loss: probability_of_default * total_loan_balance * (1 - recovery_rate)\u001b[39;00m\n\u001b[1;32m     17\u001b[0m total_loss \u001b[38;5;241m=\u001b[39m probability_of_default \u001b[38;5;241m*\u001b[39m yearend_loan_balance \u001b[38;5;241m*\u001b[39m (\u001b[38;5;241m1\u001b[39m \u001b[38;5;241m-\u001b[39m recovery_rate)\n\u001b[0;32m---> 18\u001b[0m \u001b[38;5;28mprint\u001b[39m(\u001b[43mpy\u001b[49m\u001b[38;5;241;43m.\u001b[39;49m\u001b[43mquestion_3\u001b[49m\u001b[43m(\u001b[49m\u001b[43mdf_balances\u001b[49m\u001b[43m)\u001b[49m)\n",
      "File \u001b[0;32m/app/Task_2/Python.py:153\u001b[0m, in \u001b[0;36mquestion_3\u001b[0;34m(df_balances)\u001b[0m\n\u001b[1;32m    150\u001b[0m \u001b[38;5;66;03m## Calculate what % of loans are in type 2 default:\u001b[39;00m\n\u001b[1;32m    151\u001b[0m default_rate_percent \u001b[38;5;241m=\u001b[39m \u001b[38;5;241m100\u001b[39m \u001b[38;5;241m*\u001b[39m \u001b[38;5;28mlen\u001b[39m(calc[calc[\u001b[38;5;124m\"\u001b[39m\u001b[38;5;124mPercentUnpaidPayments\u001b[39m\u001b[38;5;124m\"\u001b[39m] \u001b[38;5;241m>\u001b[39m \u001b[38;5;241m15\u001b[39m]) \u001b[38;5;241m/\u001b[39m \u001b[38;5;28mlen\u001b[39m(df_balances)\n\u001b[0;32m--> 153\u001b[0m \u001b[38;5;28;01mreturn\u001b[39;00m default_rate_percent\n",
      "\u001b[0;31mNameError\u001b[0m: name 'cpr_percent' is not defined"
     ]
    }
   ],
   "source": [
    "## Question 4\n",
    "## probability_of_default is taken from question 1 or question 2 answer\n",
    "## Assume a recovery rate of 80%\n",
    "\n",
    "\n",
    "## Need to calculate the total loan balance at the end of year 1\n",
    "## To do this, sum all the loan balances at the end of month 12:\n",
    "yearend_loan_balance = df_balances.loc[df_balances[\"Month\"] == 12, \"LoanBalanceEnd\"].sum()\n",
    "\n",
    "## Recovery rate is given to be 0.8\n",
    "recovery_rate = 0.8\n",
    "\n",
    "## Probabiltiy of default is taken from question 2\n",
    "probability_of_default = 0.1\n",
    "\n",
    "## Predicted total loss: probability_of_default * total_loan_balance * (1 - recovery_rate)\n",
    "total_loss = probability_of_default * yearend_loan_balance * (1 - recovery_rate)\n",
    "print(py.question_3(df_balances))"
   ]
  }
 ],
 "metadata": {
  "kernelspec": {
   "display_name": "Python 3 (ipykernel)",
   "language": "python",
   "name": "python3"
  },
  "language_info": {
   "codemirror_mode": {
    "name": "ipython",
    "version": 3
   },
   "file_extension": ".py",
   "mimetype": "text/x-python",
   "name": "python",
   "nbconvert_exporter": "python",
   "pygments_lexer": "ipython3",
   "version": "3.10.17"
  }
 },
 "nbformat": 4,
 "nbformat_minor": 4
}
