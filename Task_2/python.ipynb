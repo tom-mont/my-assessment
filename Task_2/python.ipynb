{
 "cells": [
  {
   "cell_type": "code",
   "execution_count": 2,
   "metadata": {},
   "outputs": [],
   "source": [
    "import os\n",
    "\n",
    "import pandas as pd\n",
    "import Python as py"
   ]
  },
  {
   "cell_type": "code",
   "execution_count": 3,
   "metadata": {},
   "outputs": [],
   "source": [
    "root = os.getcwd()\n",
    "df_scheduled = pd.read_csv(root + \"/data/scheduled_loan_repayments.csv\")\n",
    "df_actual = pd.read_csv(root + \"/data/actual_loan_repayments.csv\")\n",
    "df_balances = py.calculate_df_balances(df_scheduled, df_actual)"
   ]
  },
  {
   "cell_type": "code",
   "execution_count": 3,
   "metadata": {},
   "outputs": [
    {
     "name": "stdout",
     "output_type": "stream",
     "text": [
      "15.0\n",
      "15.0\n"
     ]
    }
   ],
   "source": [
    "## Question 1\n",
    "# print(df_balances[df_balances['ActualRepayment'] < df_balances['ScheduledRepayment']])\n",
    "filtered_df = df_balances[df_balances['ActualRepayment'] < df_balances['ScheduledRepayment']]\n",
    "count_distinct_loans_type1default = filtered_df['LoanID'].nunique()\n",
    "count_distinct_loans = df_balances['LoanID'].nunique()\n",
    "default_rate_percent = 100 * count_distinct_loans_type1default / count_distinct_loans\n",
    "print(default_rate_percent)\n",
    "print(py.question_1(df_balances))"
   ]
  },
  {
   "cell_type": "code",
   "execution_count": 4,
   "metadata": {},
   "outputs": [
    {
     "name": "stdout",
     "output_type": "stream",
     "text": [
      "12\n",
      "1\n",
      "15.0\n"
     ]
    }
   ],
   "source": [
    "# What timeframes are we dealing with?\n",
    "print(max(df_balances[\"Month\"])) # max month = 12 \n",
    "print(min(df_balances[\"Month\"])) # min month = 12\n",
    "## First need to calculcate how many payments are expected\n",
    "# print(df_balances[df_balances[\"ActualRepayment\"] == 0].head())\n",
    "\n",
    "## Check all scheduled payments for each loan \n",
    "repayments_per_loan = df_scheduled.groupby(\"LoanID\").size()\n",
    "\n",
    "## Unpaid payments are defined a payment being 0\n",
    "unpaid_payments = df_balances[df_balances[\"ActualRepayment\"] == 0].groupby(\"LoanID\").size()\n",
    "\n",
    "## Create a new DF that is on a loan-grain\n",
    "loans_df = pd.DataFrame({\n",
    "    'TotalExpectedRepayments': repayments_per_loan,\n",
    "    'UnpaidPayments': unpaid_payments\n",
    "})\n",
    "\n",
    "## Update NaN values to 0 for calculcation purposes:\n",
    "loans_df['UnpaidPayments'] = loans_df['UnpaidPayments'].fillna(0).astype(int)\n",
    "\n",
    "## Calculate percentage of payments in a loan that were not repaid:\n",
    "loans_df[\"PercentUnpaidPayments\"] = 100 * loans_df[\"UnpaidPayments\"] / loans_df[\"TotalExpectedRepayments\"]\n",
    "\n",
    "## Calculate what % of loans are in type 2 default:\n",
    "default_rate_percent = 100 * len(loans_df[loans_df[\"PercentUnpaidPayments\"] > 15]) / len(loans_df)\n",
    "print(default_rate_percent)"
   ]
  },
  {
   "cell_type": "code",
   "execution_count": 4,
   "metadata": {},
   "outputs": [
    {
     "name": "stdout",
     "output_type": "stream",
     "text": [
      "count    12.000000\n",
      "mean      0.002325\n",
      "std       0.000514\n",
      "min       0.001520\n",
      "25%       0.001869\n",
      "50%       0.002403\n",
      "75%       0.002703\n",
      "max       0.003173\n",
      "Name: SMM, dtype: float64\n",
      "       ActualRepayment  ScheduledRepayment  LoanBalanceStart  \\\n",
      "Month                                                          \n",
      "1           3114459.27          2997112.72       64950000.00   \n",
      "2           3123642.10          2997112.72       62376790.69   \n",
      "3           3109890.93          2997112.72       59772955.30   \n",
      "4           3145514.81          2997112.72       57161172.37   \n",
      "5           3146576.15          2997112.72       54492000.55   \n",
      "\n",
      "       UnscheduledPrincipal       SMM  \n",
      "Month                                  \n",
      "1                 117346.55  0.001807  \n",
      "2                 126529.38  0.002028  \n",
      "3                 112778.21  0.001887  \n",
      "4                 148402.09  0.002596  \n",
      "5                 149463.43  0.002743  \n",
      "0.003173342165950313\n",
      "0.002324851754791135\n",
      "2.75442453438689\n",
      "2.75442453438689\n"
     ]
    }
   ],
   "source": [
    "## Question 3\n",
    "## SMM is calculated as: (Unscheduled Principal)/(Start of Month Loan Balance)\n",
    "\n",
    "## Aggregate portfolio by taking the sums of relevant columns per-month\n",
    "portfolio_months = df_balances.groupby(\"Month\").agg({\n",
    "    \"ActualRepayment\": \"sum\",\n",
    "    \"ScheduledRepayment\": \"sum\",\n",
    "    \"LoanBalanceStart\": \"sum\"\n",
    "})\n",
    "\n",
    "## Unscheduled principal will be any payment towards the principal over what is expected\n",
    "## This will be any payment over and above the expected payment.\n",
    "portfolio_months[\"UnscheduledPrincipal\"] = portfolio_months[\"ActualRepayment\"] - portfolio_months[\"ScheduledRepayment\"]\n",
    "## UnscheduledPrincipal cannot be less than zero:\n",
    "portfolio_months.loc[portfolio_months[\"UnscheduledPrincipal\"] < 0, \"UnscheduledPrincipal\"] = 0\n",
    "\n",
    "## SMM is calculated as: (Unscheduled Principal)/(Start of Month Loan Balance)\n",
    "portfolio_months[\"SMM\"] = portfolio_months[\"UnscheduledPrincipal\"] / portfolio_months[\"LoanBalanceStart\"]\n",
    "print(portfolio_months[\"SMM\"].describe())\n",
    "print(portfolio_months[portfolio_months[\"UnscheduledPrincipal\"] > 0].head())\n",
    "print(portfolio_months[\"SMM\"].max())\n",
    "\n",
    "## SMM_mean is calculated as (∏(1+SMM))^(1/12) - 1\n",
    "SMM_mean = (1 + portfolio_months[\"SMM\"]).prod() ** (1/12) - 1\n",
    "print(SMM_mean)\n",
    "\n",
    "## CPR is calcualted as: 1 - (1- SMM_mean)^12\n",
    "cpr = 100 * (1 - (1 - SMM_mean) ** 12)\n",
    "print(cpr)\n",
    "print(py.question_3(df_balances))"
   ]
  },
  {
   "cell_type": "code",
   "execution_count": 6,
   "metadata": {},
   "outputs": [
    {
     "name": "stdout",
     "output_type": "stream",
     "text": [
      "979573.1690999997\n"
     ]
    }
   ],
   "source": [
    "## Question 4\n",
    "## probability_of_default is taken from question 1 or question 2 answer\n",
    "## Assume a recovery rate of 80%\n",
    "\n",
    "\n",
    "## Need to calculate the total loan balance at the end of year 1\n",
    "## To do this, sum all the loan balances at the end of month 12:\n",
    "yearend_loan_balance = df_balances.loc[df_balances[\"Month\"] == 12, \"LoanBalanceEnd\"].sum()\n",
    "\n",
    "## Recovery rate is given to be 0.8\n",
    "recovery_rate = 0.8\n",
    "\n",
    "## Probabiltiy of default is taken from question 2\n",
    "probability_of_default = 0.1\n",
    "\n",
    "## Predicted total loss: probability_of_default * total_loan_balance * (1 - recovery_rate)\n",
    "total_loss = probability_of_default * yearend_loan_balance * (1 - recovery_rate)\n",
    "print(py.question_4(df_balances))"
   ]
  }
 ],
 "metadata": {
  "kernelspec": {
   "display_name": "Python 3 (ipykernel)",
   "language": "python",
   "name": "python3"
  },
  "language_info": {
   "codemirror_mode": {
    "name": "ipython",
    "version": 3
   },
   "file_extension": ".py",
   "mimetype": "text/x-python",
   "name": "python",
   "nbconvert_exporter": "python",
   "pygments_lexer": "ipython3",
   "version": "3.10.17"
  }
 },
 "nbformat": 4,
 "nbformat_minor": 4
}
